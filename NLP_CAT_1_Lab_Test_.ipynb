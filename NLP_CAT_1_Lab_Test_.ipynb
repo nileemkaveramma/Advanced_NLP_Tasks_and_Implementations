{
  "nbformat": 4,
  "nbformat_minor": 0,
  "metadata": {
    "colab": {
      "provenance": []
    },
    "kernelspec": {
      "name": "python3",
      "display_name": "Python 3"
    },
    "language_info": {
      "name": "python"
    }
  },
  "cells": [
    {
      "cell_type": "markdown",
      "source": [
        "###NLP CAT - 1 Lab Test"
      ],
      "metadata": {
        "id": "yrzzlsiiC8fK"
      }
    },
    {
      "cell_type": "markdown",
      "source": [
        "* TOPIC : Stock Market prediction Using Sentimental analysis\n",
        "* From : Nileem Kaveramma C C (2348441)\n"
      ],
      "metadata": {
        "id": "2OXMLRwMsieJ"
      }
    },
    {
      "cell_type": "code",
      "source": [
        "#importing files\n",
        "import nltk\n",
        "from collections import Counter\n",
        "from nltk.tokenize import word_tokenize"
      ],
      "metadata": {
        "id": "GFptMOrVtLRg"
      },
      "execution_count": null,
      "outputs": []
    },
    {
      "cell_type": "markdown",
      "source": [
        "* punkt: These models are essential for sentence and word tokenization, which means breaking down text into individual sentences or words."
      ],
      "metadata": {
        "id": "vJV_aZ2cAM3l"
      }
    },
    {
      "cell_type": "code",
      "source": [
        "# NLTK resources\n",
        "nltk.download('punkt')"
      ],
      "metadata": {
        "colab": {
          "base_uri": "https://localhost:8080/"
        },
        "id": "7IUk0dU-tEvy",
        "outputId": "f3c6f368-20e5-488c-f20f-36aa5b08ded6"
      },
      "execution_count": null,
      "outputs": [
        {
          "output_type": "stream",
          "name": "stderr",
          "text": [
            "[nltk_data] Downloading package punkt to /root/nltk_data...\n",
            "[nltk_data]   Unzipping tokenizers/punkt.zip.\n"
          ]
        },
        {
          "output_type": "execute_result",
          "data": {
            "text/plain": [
              "True"
            ]
          },
          "metadata": {},
          "execution_count": 3
        }
      ]
    },
    {
      "cell_type": "markdown",
      "source": [
        "Q1: Given a set of interview transcripts from student interviews:\n",
        "* a. Tokenize the text of the interview transcripts.\n",
        "* b. Calculate the frequency of each token across the entire set of transcripts.\n",
        "* c. Identify the top 10 most frequent tokens and discuss their relevance to the context of student interviews.\n"
      ],
      "metadata": {
        "id": "wLeOgDAqs5jP"
      }
    },
    {
      "cell_type": "code",
      "execution_count": null,
      "metadata": {
        "colab": {
          "base_uri": "https://localhost:8080/"
        },
        "id": "yXVOu3XTrgJ9",
        "outputId": "7906f000-cb56-480d-bfc2-e9b91d5a4c10"
      },
      "outputs": [
        {
          "output_type": "stream",
          "name": "stdout",
          "text": [
            "Q1a: Tokenized Interview Transcripts:\n",
            "Transcript 1: ['i', 'am', 'a', 'dedicated', 'student', 'and', 'very', 'interested', 'in', 'your', 'program', '.']\n",
            "Transcript 2: ['my', 'strengths', 'include', 'a', 'strong', 'work', 'ethic', 'and', 'a', 'commitment', 'to', 'excellence', '.']\n",
            "Transcript 3: ['i', 'am', 'passionate', 'about', 'my', 'field', 'and', 'eager', 'to', 'contribute', '.']\n"
          ]
        }
      ],
      "source": [
        "transcripts = [\n",
        "    \"I am a dedicated student and very interested in Stock market .\",\n",
        "    \"My strengths include a strong work ethic and a commitment to excellence.\",\n",
        "    \"I am passionate about my field and eager to contribute.\"\n",
        "]\n",
        "\n",
        "# a. Tokenize the text of the interview transcripts.\n",
        "tokens = [word_tokenize(transcript.lower()) for transcript in transcripts]\n",
        "all_tokens = [token for sublist in tokens for token in sublist]\n",
        "\n",
        "# a. Tokenize the text of the interview transcripts.\n",
        "tokens = [word_tokenize(transcript.lower()) for transcript in transcripts]\n",
        "\n",
        "# Printing the tokenized transcripts\n",
        "print(\"Q1a: Tokenized Interview Transcripts:\")\n",
        "for i, token_list in enumerate(tokens):\n",
        "    print(f\"Transcript {i+1}: {token_list}\")"
      ]
    },
    {
      "cell_type": "code",
      "source": [
        "# b. Calculate the frequency of each token across the entire set of transcripts.\n",
        "token_freq = Counter(all_tokens)\n",
        "\n",
        "# Tokenizing the text of the interview transcripts\n",
        "tokens = [word_tokenize(transcript.lower()) for transcript in transcripts]\n",
        "all_tokens = [token for sublist in tokens for token in sublist]\n",
        "\n",
        "# Printing the frequency of each token\n",
        "print(\" Frequency of Each Token Across Transcripts:\")\n",
        "for token, freq in token_freq.items():\n",
        "    print(f\"Token: '{token}', Frequency: {freq}\")"
      ],
      "metadata": {
        "colab": {
          "base_uri": "https://localhost:8080/"
        },
        "id": "aeHYbG96t6YP",
        "outputId": "b5c1a511-9bfd-4be2-b344-24a35ce57e05"
      },
      "execution_count": null,
      "outputs": [
        {
          "output_type": "stream",
          "name": "stdout",
          "text": [
            " Frequency of Each Token Across Transcripts:\n",
            "Token: 'i', Frequency: 2\n",
            "Token: 'am', Frequency: 2\n",
            "Token: 'a', Frequency: 3\n",
            "Token: 'dedicated', Frequency: 1\n",
            "Token: 'student', Frequency: 1\n",
            "Token: 'and', Frequency: 3\n",
            "Token: 'very', Frequency: 1\n",
            "Token: 'interested', Frequency: 1\n",
            "Token: 'in', Frequency: 1\n",
            "Token: 'your', Frequency: 1\n",
            "Token: 'program', Frequency: 1\n",
            "Token: '.', Frequency: 3\n",
            "Token: 'my', Frequency: 2\n",
            "Token: 'strengths', Frequency: 1\n",
            "Token: 'include', Frequency: 1\n",
            "Token: 'strong', Frequency: 1\n",
            "Token: 'work', Frequency: 1\n",
            "Token: 'ethic', Frequency: 1\n",
            "Token: 'commitment', Frequency: 1\n",
            "Token: 'to', Frequency: 2\n",
            "Token: 'excellence', Frequency: 1\n",
            "Token: 'passionate', Frequency: 1\n",
            "Token: 'about', Frequency: 1\n",
            "Token: 'field', Frequency: 1\n",
            "Token: 'eager', Frequency: 1\n",
            "Token: 'contribute', Frequency: 1\n"
          ]
        }
      ]
    },
    {
      "cell_type": "code",
      "source": [
        "#c. Identify the top 10 most frequent tokens and discuss their relevance to the context of student interviews.\n",
        "# Tokenizing the text of the interview transcripts\n",
        "tokens = [word_tokenize(transcript.lower()) for transcript in transcripts]\n",
        "all_tokens = [token for sublist in tokens for token in sublist]\n",
        "\n",
        "# Calculating the frequency of each token across the entire set of transcripts\n",
        "token_freq = Counter(all_tokens)\n",
        "\n",
        "# c. Identify the top 10 most frequent tokens\n",
        "top_10_tokens = token_freq.most_common(10)\n",
        "\n",
        "# Printing the top 10 most frequent tokens\n",
        "print(\"Q1c: Top 10 Most Frequent Tokens:\")\n",
        "for token, freq in top_10_tokens:\n",
        "    print(f\"Token: '{token}', Frequency: {freq}\")"
      ],
      "metadata": {
        "colab": {
          "base_uri": "https://localhost:8080/"
        },
        "id": "8U5sZRjguDXc",
        "outputId": "fbe62273-7472-4838-b856-8b75c9067541"
      },
      "execution_count": null,
      "outputs": [
        {
          "output_type": "stream",
          "name": "stdout",
          "text": [
            "Q1c: Top 10 Most Frequent Tokens:\n",
            "Token: 'a', Frequency: 3\n",
            "Token: 'and', Frequency: 3\n",
            "Token: '.', Frequency: 3\n",
            "Token: 'i', Frequency: 2\n",
            "Token: 'am', Frequency: 2\n",
            "Token: 'my', Frequency: 2\n",
            "Token: 'to', Frequency: 2\n",
            "Token: 'dedicated', Frequency: 1\n",
            "Token: 'student', Frequency: 1\n",
            "Token: 'very', Frequency: 1\n"
          ]
        }
      ]
    },
    {
      "cell_type": "markdown",
      "source": [
        "Q2: Using the interview transcripts:\n",
        "* a. Create a word frequency matrix for each transcript, where rows represent unique tokens and columns represent different transcripts.\n",
        "* b. Normalize the frequency matrix using term frequency (TF) normalization.\n",
        "* c. Compare and contrast the word frequency distributions across the different transcripts.\n"
      ],
      "metadata": {
        "id": "bsY8ik_Tug_r"
      }
    },
    {
      "cell_type": "code",
      "source": [
        "# a. Create a word frequency matrix for each transcript\n",
        "import pandas as pd\n",
        "from sklearn.feature_extraction.text import CountVectorizer\n",
        "\n",
        "vectorizer = CountVectorizer(lowercase=True)\n",
        "word_freq_matrix = vectorizer.fit_transform(transcripts)\n",
        "\n",
        "# Convert the matrix to a DataFrame for better visualization\n",
        "word_freq_df = pd.DataFrame(word_freq_matrix.toarray(), columns=vectorizer.get_feature_names_out())\n",
        "\n",
        "# Printing the word frequency matrix\n",
        "print(\"Q2a: Word Frequency Matrix:\")\n",
        "print(word_freq_df)"
      ],
      "metadata": {
        "colab": {
          "base_uri": "https://localhost:8080/"
        },
        "id": "2ut6iEbduQS0",
        "outputId": "f452116c-43b5-48bd-c4ea-e1701c7317df"
      },
      "execution_count": null,
      "outputs": [
        {
          "output_type": "stream",
          "name": "stdout",
          "text": [
            "Q2a: Word Frequency Matrix:\n",
            "   about  am  and  commitment  contribute  dedicated  eager  ethic  \\\n",
            "0      0   1    1           0           0          1      0      0   \n",
            "1      0   0    1           1           0          0      0      1   \n",
            "2      1   1    1           0           1          0      1      0   \n",
            "\n",
            "   excellence  field  ...  my  passionate  program  strengths  strong  \\\n",
            "0           0      0  ...   0           0        1          0       0   \n",
            "1           1      0  ...   1           0        0          1       1   \n",
            "2           0      1  ...   1           1        0          0       0   \n",
            "\n",
            "   student  to  very  work  your  \n",
            "0        1   0     1     0     1  \n",
            "1        0   1     0     1     0  \n",
            "2        0   1     0     0     0  \n",
            "\n",
            "[3 rows x 23 columns]\n"
          ]
        }
      ]
    },
    {
      "cell_type": "code",
      "source": [
        "#b TF Normalization of Word Frequency Matrix\n",
        "\n",
        "# Create the word frequency matrix\n",
        "vectorizer = CountVectorizer(lowercase=True)\n",
        "word_freq_matrix = vectorizer.fit_transform(transcripts)\n",
        "word_freq_df = pd.DataFrame(word_freq_matrix.toarray(), columns=vectorizer.get_feature_names_out())\n",
        "\n",
        "# b. Normalize the frequency matrix using term frequency (TF) normalization\n",
        "tf_normalized_matrix = word_freq_df.div(word_freq_df.sum(axis=1), axis=0)\n",
        "\n",
        "# Printing the TF normalized matrix\n",
        "print(\"Q2b: TF Normalized Word Frequency Matrix:\")\n",
        "print(tf_normalized_matrix)"
      ],
      "metadata": {
        "colab": {
          "base_uri": "https://localhost:8080/"
        },
        "id": "D2-siDIovGZi",
        "outputId": "b57e51bc-be3c-47b9-89a3-82b56e138cba"
      },
      "execution_count": null,
      "outputs": [
        {
          "output_type": "stream",
          "name": "stdout",
          "text": [
            "Q2b: TF Normalized Word Frequency Matrix:\n",
            "      about        am       and  commitment  contribute  dedicated     eager  \\\n",
            "0  0.000000  0.111111  0.111111         0.0    0.000000   0.111111  0.000000   \n",
            "1  0.000000  0.000000  0.100000         0.1    0.000000   0.000000  0.000000   \n",
            "2  0.111111  0.111111  0.111111         0.0    0.111111   0.000000  0.111111   \n",
            "\n",
            "   ethic  excellence     field  ...        my  passionate   program  \\\n",
            "0    0.0         0.0  0.000000  ...  0.000000    0.000000  0.111111   \n",
            "1    0.1         0.1  0.000000  ...  0.100000    0.000000  0.000000   \n",
            "2    0.0         0.0  0.111111  ...  0.111111    0.111111  0.000000   \n",
            "\n",
            "   strengths  strong   student        to      very  work      your  \n",
            "0        0.0     0.0  0.111111  0.000000  0.111111   0.0  0.111111  \n",
            "1        0.1     0.1  0.000000  0.100000  0.000000   0.1  0.000000  \n",
            "2        0.0     0.0  0.000000  0.111111  0.000000   0.0  0.000000  \n",
            "\n",
            "[3 rows x 23 columns]\n"
          ]
        }
      ]
    },
    {
      "cell_type": "code",
      "source": [
        "#c Compare and contrast the word frequency distributions across the different transcripts.\n",
        "\n",
        "# Create the word frequency matrix\n",
        "vectorizer = CountVectorizer(lowercase=True)\n",
        "word_freq_matrix = vectorizer.fit_transform(transcripts)\n",
        "word_freq_df = pd.DataFrame(word_freq_matrix.toarray(), columns=vectorizer.get_feature_names_out())\n",
        "\n",
        "# Normalize the frequency matrix using term frequency (TF) normalization\n",
        "tf_normalized_matrix = word_freq_df.div(word_freq_df.sum(axis=1), axis=0)\n",
        "\n",
        "# Print the normalized matrix for reference\n",
        "print(\"TF Normalized Word Frequency Matrix:\")\n",
        "print(tf_normalized_matrix)\n",
        "\n",
        "# Compute and print some basic statistics for comparison\n",
        "print(\"\\nComparison of Word Frequency Distributions Across Transcripts:\")\n",
        "for i in range(tf_normalized_matrix.shape[0]):\n",
        "    print(f\"\\nTranscript {i+1}:\")\n",
        "    print(tf_normalized_matrix.iloc[i].sort_values(ascending=False))"
      ],
      "metadata": {
        "colab": {
          "base_uri": "https://localhost:8080/"
        },
        "id": "-NrJ40UpvQM4",
        "outputId": "bb772c58-4c13-4477-8c44-b5b78b23471c"
      },
      "execution_count": null,
      "outputs": [
        {
          "output_type": "stream",
          "name": "stdout",
          "text": [
            "TF Normalized Word Frequency Matrix:\n",
            "      about        am       and  commitment  contribute  dedicated     eager  \\\n",
            "0  0.000000  0.111111  0.111111         0.0    0.000000   0.111111  0.000000   \n",
            "1  0.000000  0.000000  0.100000         0.1    0.000000   0.000000  0.000000   \n",
            "2  0.111111  0.111111  0.111111         0.0    0.111111   0.000000  0.111111   \n",
            "\n",
            "   ethic  excellence     field  ...        my  passionate   program  \\\n",
            "0    0.0         0.0  0.000000  ...  0.000000    0.000000  0.111111   \n",
            "1    0.1         0.1  0.000000  ...  0.100000    0.000000  0.000000   \n",
            "2    0.0         0.0  0.111111  ...  0.111111    0.111111  0.000000   \n",
            "\n",
            "   strengths  strong   student        to      very  work      your  \n",
            "0        0.0     0.0  0.111111  0.000000  0.111111   0.0  0.111111  \n",
            "1        0.1     0.1  0.000000  0.100000  0.000000   0.1  0.000000  \n",
            "2        0.0     0.0  0.000000  0.111111  0.000000   0.0  0.000000  \n",
            "\n",
            "[3 rows x 23 columns]\n",
            "\n",
            "Comparison of Word Frequency Distributions Across Transcripts:\n",
            "\n",
            "Transcript 1:\n",
            "your          0.111111\n",
            "and           0.111111\n",
            "very          0.111111\n",
            "dedicated     0.111111\n",
            "student       0.111111\n",
            "in            0.111111\n",
            "am            0.111111\n",
            "interested    0.111111\n",
            "program       0.111111\n",
            "passionate    0.000000\n",
            "work          0.000000\n",
            "to            0.000000\n",
            "strong        0.000000\n",
            "strengths     0.000000\n",
            "about         0.000000\n",
            "my            0.000000\n",
            "field         0.000000\n",
            "excellence    0.000000\n",
            "ethic         0.000000\n",
            "eager         0.000000\n",
            "contribute    0.000000\n",
            "commitment    0.000000\n",
            "include       0.000000\n",
            "Name: 0, dtype: float64\n",
            "\n",
            "Transcript 2:\n",
            "include       0.1\n",
            "and           0.1\n",
            "commitment    0.1\n",
            "work          0.1\n",
            "to            0.1\n",
            "ethic         0.1\n",
            "excellence    0.1\n",
            "strong        0.1\n",
            "strengths     0.1\n",
            "my            0.1\n",
            "passionate    0.0\n",
            "very          0.0\n",
            "student       0.0\n",
            "program       0.0\n",
            "about         0.0\n",
            "interested    0.0\n",
            "am            0.0\n",
            "in            0.0\n",
            "field         0.0\n",
            "eager         0.0\n",
            "dedicated     0.0\n",
            "contribute    0.0\n",
            "your          0.0\n",
            "Name: 1, dtype: float64\n",
            "\n",
            "Transcript 3:\n",
            "about         0.111111\n",
            "and           0.111111\n",
            "contribute    0.111111\n",
            "eager         0.111111\n",
            "to            0.111111\n",
            "field         0.111111\n",
            "am            0.111111\n",
            "my            0.111111\n",
            "passionate    0.111111\n",
            "program       0.000000\n",
            "work          0.000000\n",
            "very          0.000000\n",
            "student       0.000000\n",
            "strong        0.000000\n",
            "strengths     0.000000\n",
            "include       0.000000\n",
            "interested    0.000000\n",
            "in            0.000000\n",
            "excellence    0.000000\n",
            "ethic         0.000000\n",
            "dedicated     0.000000\n",
            "commitment    0.000000\n",
            "your          0.000000\n",
            "Name: 2, dtype: float64\n"
          ]
        }
      ]
    },
    {
      "cell_type": "markdown",
      "source": [
        "Q3: For the interview transcripts:\n",
        "* a. Apply stemming to the tokens generated from the transcripts using a stemming algorithm of your choice (e.g., Porter Stemmer).\n",
        "* b. Repeat the process using lemmatization instead of stemming.\n",
        "* c. Discuss the differences between the results of stemming and lemmatization and their implications for understanding the content of the interviews.\n"
      ],
      "metadata": {
        "id": "7xGO-Izyvsx5"
      }
    },
    {
      "cell_type": "code",
      "source": [
        "#a Apply stemming to the tokens generated from the transcripts using a stemming algorithm of your choice (e.g., Porter Stemmer).\n",
        "# Initialize the Porter Stemmer\n",
        "from nltk.tokenize import word_tokenize\n",
        "from nltk.stem import PorterStemmer\n",
        "\n",
        "stemmer = PorterStemmer()\n",
        "\n",
        "# Function to stem tokens\n",
        "def stem_tokens(tokens):\n",
        "    return [stemmer.stem(token) for token in tokens]\n",
        "\n",
        "# Tokenize and stem the transcripts\n",
        "stemmed_transcripts = []\n",
        "for transcript in transcripts:\n",
        "    tokens = word_tokenize(transcript.lower())\n",
        "    stemmed_tokens = stem_tokens(tokens)\n",
        "    stemmed_transcripts.append(stemmed_tokens)\n",
        "\n",
        "# Printing the stemmed transcripts\n",
        "print(\"Q3a: Stemmed Interview Transcripts:\")\n",
        "for i, stemmed_tokens in enumerate(stemmed_transcripts):\n",
        "    print(f\"Transcript {i+1}: {stemmed_tokens}\")"
      ],
      "metadata": {
        "colab": {
          "base_uri": "https://localhost:8080/"
        },
        "id": "LDJGw1P4vlAk",
        "outputId": "cf8f035c-97ae-428c-9ece-2f0a4af57183"
      },
      "execution_count": null,
      "outputs": [
        {
          "output_type": "stream",
          "name": "stdout",
          "text": [
            "Q3a: Stemmed Interview Transcripts:\n",
            "Transcript 1: ['i', 'am', 'a', 'dedic', 'student', 'and', 'veri', 'interest', 'in', 'your', 'program', '.']\n",
            "Transcript 2: ['my', 'strength', 'includ', 'a', 'strong', 'work', 'ethic', 'and', 'a', 'commit', 'to', 'excel', '.']\n",
            "Transcript 3: ['i', 'am', 'passion', 'about', 'my', 'field', 'and', 'eager', 'to', 'contribut', '.']\n"
          ]
        }
      ]
    },
    {
      "cell_type": "code",
      "source": [
        "from nltk.tokenize import word_tokenize\n",
        "from nltk.stem import WordNetLemmatizer\n",
        "import nltk\n",
        "from nltk.corpus import wordnet\n",
        "\n",
        "# Ensure you have the necessary NLTK resources\n",
        "nltk.download('punkt')\n",
        "nltk.download('wordnet')\n",
        "nltk.download('averaged_perceptron_tagger')  # Download the POS tagger\n",
        "\n",
        "# Initialize the WordNet Lemmatizer\n",
        "lemmatizer = WordNetLemmatizer()\n",
        "\n",
        "# Function to get the part of speech for lemmatization\n",
        "def get_wordnet_pos(treebank_tag):\n",
        "    if treebank_tag.startswith('J'):\n",
        "        return wordnet.ADJ\n",
        "    elif treebank_tag.startswith('V'):\n",
        "        return wordnet.VERB\n",
        "    elif treebank_tag.startswith('N'):\n",
        "        return wordnet.NOUN\n",
        "    elif treebank_tag.startswith('R'):\n",
        "        return wordnet.ADV\n",
        "    else:\n",
        "        return wordnet.NOUN\n",
        "\n",
        "# Function to lemmatize tokens\n",
        "def lemmatize_tokens(tokens):\n",
        "    pos_tags = nltk.pos_tag(tokens)\n",
        "    return [lemmatizer.lemmatize(token, get_wordnet_pos(pos_tag)) for token, pos_tag in pos_tags]\n",
        "\n",
        "# Sample transcripts\n",
        "transcripts = [\n",
        "    \"I am a dedicated student and very interested in your program.\",\n",
        "    \"My strengths include a strong work ethic and a commitment to excellence.\",\n",
        "    \"I am passionate about my field and eager to contribute.\"\n",
        "]\n",
        "\n",
        "# Tokenize and lemmatize the transcripts\n",
        "lemmatized_transcripts = []\n",
        "for transcript in transcripts:\n",
        "    tokens = word_tokenize(transcript.lower())\n",
        "    lemmatized_tokens = lemmatize_tokens(tokens)\n",
        "    lemmatized_transcripts.append(lemmatized_tokens)\n",
        "\n",
        "# Printing the lemmatized transcripts\n",
        "print(\"Q3b: Lemmatized Interview Transcripts:\")\n",
        "for i, lemmatized_tokens in enumerate(lemmatized_transcripts):\n",
        "    print(f\"Transcript {i+1}: {lemmatized_tokens}\")\n"
      ],
      "metadata": {
        "colab": {
          "base_uri": "https://localhost:8080/"
        },
        "id": "o_cZj6aQwWYE",
        "outputId": "cdaf6e2f-8a4d-4d6a-b4fa-e9ff12bf1cf1"
      },
      "execution_count": null,
      "outputs": [
        {
          "output_type": "stream",
          "name": "stderr",
          "text": [
            "[nltk_data] Downloading package punkt to /root/nltk_data...\n",
            "[nltk_data]   Package punkt is already up-to-date!\n",
            "[nltk_data] Downloading package wordnet to /root/nltk_data...\n",
            "[nltk_data]   Package wordnet is already up-to-date!\n",
            "[nltk_data] Downloading package averaged_perceptron_tagger to\n",
            "[nltk_data]     /root/nltk_data...\n",
            "[nltk_data]   Unzipping taggers/averaged_perceptron_tagger.zip.\n"
          ]
        },
        {
          "output_type": "stream",
          "name": "stdout",
          "text": [
            "Q3b: Lemmatized Interview Transcripts:\n",
            "Transcript 1: ['i', 'be', 'a', 'dedicated', 'student', 'and', 'very', 'interested', 'in', 'your', 'program', '.']\n",
            "Transcript 2: ['my', 'strength', 'include', 'a', 'strong', 'work', 'ethic', 'and', 'a', 'commitment', 'to', 'excellence', '.']\n",
            "Transcript 3: ['i', 'be', 'passionate', 'about', 'my', 'field', 'and', 'eager', 'to', 'contribute', '.']\n"
          ]
        }
      ]
    },
    {
      "cell_type": "code",
      "source": [
        "#c Discuss the differences between the results of stemming and lemmatization and their implications for understanding the content of the interviews.\n",
        "\n",
        "from nltk.tokenize import word_tokenize\n",
        "from nltk.stem import WordNetLemmatizer\n",
        "import nltk\n",
        "from nltk.corpus import wordnet\n",
        "\n",
        "# Ensure you have the necessary NLTK resources\n",
        "nltk.download('punkt')\n",
        "nltk.download('wordnet')\n",
        "\n",
        "# Initialize the WordNet Lemmatizer\n",
        "lemmatizer = WordNetLemmatizer()\n",
        "\n",
        "# Function to get the part of speech for lemmatization\n",
        "def get_wordnet_pos(treebank_tag):\n",
        "    if treebank_tag.startswith('J'):\n",
        "        return wordnet.ADJ\n",
        "    elif treebank_tag.startswith('V'):\n",
        "        return wordnet.VERB\n",
        "    elif treebank_tag.startswith('N'):\n",
        "        return wordnet.NOUN\n",
        "    elif treebank_tag.startswith('R'):\n",
        "        return wordnet.ADV\n",
        "    else:\n",
        "        return wordnet.NOUN\n",
        "\n",
        "# Function to lemmatize tokens\n",
        "def lemmatize_tokens(tokens):\n",
        "    pos_tags = nltk.pos_tag(tokens)\n",
        "    return [lemmatizer.lemmatize(token, get_wordnet_pos(pos_tag)) for token, pos_tag in pos_tags]\n",
        "\n",
        "# Sample transcripts\n",
        "transcripts = [\n",
        "    \"I am a dedicated student and very interested in your program.\",\n",
        "    \"My strengths include a strong work ethic and a commitment to excellence.\",\n",
        "    \"I am passionate about my field and eager to contribute.\"\n",
        "]\n",
        "\n",
        "# Tokenize and lemmatize the transcripts\n",
        "lemmatized_transcripts = []\n",
        "for transcript in transcripts:\n",
        "    tokens = word_tokenize(transcript.lower())\n",
        "    lemmatized_tokens = lemmatize_tokens(tokens)\n",
        "    lemmatized_transcripts.append(lemmatized_tokens)\n",
        "\n",
        "# Printing the lemmatized transcripts\n",
        "print(\"Q3b: Lemmatized Interview Transcripts:\")\n",
        "for i, lemmatized_tokens in enumerate(lemmatized_transcripts):\n",
        "    print(f\"Transcript {i+1}: {lemmatized_tokens}\")\n"
      ],
      "metadata": {
        "colab": {
          "base_uri": "https://localhost:8080/"
        },
        "id": "VFnyXYcWwgLA",
        "outputId": "771e3ecb-8481-411d-8de0-74b356d331e2"
      },
      "execution_count": null,
      "outputs": [
        {
          "output_type": "stream",
          "name": "stdout",
          "text": [
            "Q3b: Lemmatized Interview Transcripts:\n",
            "Transcript 1: ['i', 'be', 'a', 'dedicated', 'student', 'and', 'very', 'interested', 'in', 'your', 'program', '.']\n",
            "Transcript 2: ['my', 'strength', 'include', 'a', 'strong', 'work', 'ethic', 'and', 'a', 'commitment', 'to', 'excellence', '.']\n",
            "Transcript 3: ['i', 'be', 'passionate', 'about', 'my', 'field', 'and', 'eager', 'to', 'contribute', '.']\n"
          ]
        },
        {
          "output_type": "stream",
          "name": "stderr",
          "text": [
            "[nltk_data] Downloading package punkt to /root/nltk_data...\n",
            "[nltk_data]   Package punkt is already up-to-date!\n",
            "[nltk_data] Downloading package wordnet to /root/nltk_data...\n",
            "[nltk_data]   Package wordnet is already up-to-date!\n"
          ]
        }
      ]
    },
    {
      "cell_type": "markdown",
      "source": [
        "Q4: Consider the responses given in the interview transcripts:\n",
        "* a. Implement normalization techniques on the transcripts, such as lowercasing and removing punctuation.\n",
        "* b. Calculate the edit distance between two key phrases from the transcripts to determine how closely related they are.\n",
        "* c. Discuss how edit distance could be used to compare the responses of different students to the same question.\n"
      ],
      "metadata": {
        "id": "ROkDuZGoxnbK"
      }
    },
    {
      "cell_type": "code",
      "source": [
        "#a. Implement normalization techniques on the transcripts, such as lowercasing and removing punctuation.\n",
        "import string\n",
        "import nltk\n",
        "from nltk.tokenize import word_tokenize\n",
        "\n",
        "# Function to normalize text\n",
        "def normalize_text(text):\n",
        "    # Convert to lowercase\n",
        "    text = text.lower()\n",
        "    # Remove punctuation\n",
        "    text = text.translate(str.maketrans('', '', string.punctuation))\n",
        "    return text\n",
        "\n",
        "# Normalize the transcripts\n",
        "normalized_transcripts = []\n",
        "for transcript in transcripts:\n",
        "    normalized_transcript = normalize_text(transcript)\n",
        "    normalized_transcripts.append(normalized_transcript)\n",
        "\n",
        "# Tokenize the normalized transcripts\n",
        "tokenized_transcripts = [word_tokenize(transcript) for transcript in normalized_transcripts]\n",
        "\n",
        "# Printing the normalized and tokenized transcripts\n",
        "print(\"Q4a: Normalized and Tokenized Interview Transcripts:\")\n",
        "for i, tokens in enumerate(tokenized_transcripts):\n",
        "    print(f\"Transcript {i+1}: {tokens}\")\n"
      ],
      "metadata": {
        "colab": {
          "base_uri": "https://localhost:8080/"
        },
        "id": "NRlsUMiyxHV2",
        "outputId": "e28fc8df-27e0-43cc-e78c-58c9bc88bd4f"
      },
      "execution_count": null,
      "outputs": [
        {
          "output_type": "stream",
          "name": "stdout",
          "text": [
            "Q4a: Normalized and Tokenized Interview Transcripts:\n",
            "Transcript 1: ['i', 'am', 'a', 'dedicated', 'student', 'and', 'very', 'interested', 'in', 'your', 'program']\n",
            "Transcript 2: ['my', 'strengths', 'include', 'a', 'strong', 'work', 'ethic', 'and', 'a', 'commitment', 'to', 'excellence']\n",
            "Transcript 3: ['i', 'am', 'passionate', 'about', 'my', 'field', 'and', 'eager', 'to', 'contribute']\n"
          ]
        }
      ]
    },
    {
      "cell_type": "code",
      "source": [
        "# b. Calculate the edit distance between two key phrases from the transcripts to determine how closely related they are.\n",
        "\n",
        "import editdistance\n",
        "\n",
        "# Define the key phrases\n",
        "phrase1 = \"I am passionate about my field\"\n",
        "phrase2 = \"My field is something I am passionate about\"\n",
        "\n",
        "# Calculate the edit distance\n",
        "distance = editdistance.eval(phrase1, phrase2)\n",
        "\n",
        "# Printing the edit distance\n",
        "print(f\" Edit Distance between '{phrase1}' and '{phrase2}': {distance}\")\n",
        "\n"
      ],
      "metadata": {
        "colab": {
          "base_uri": "https://localhost:8080/"
        },
        "id": "r1dGFAVkxtZb",
        "outputId": "196ffa8c-bfee-4892-ffea-1074b6b916dc"
      },
      "execution_count": null,
      "outputs": [
        {
          "output_type": "stream",
          "name": "stdout",
          "text": [
            " Edit Distance between 'I am passionate about my field' and 'My field is something I am passionate about': 31\n"
          ]
        }
      ]
    },
    {
      "cell_type": "code",
      "source": [
        "# c . Discuss how edit distance could be used to compare the responses of different students to the same question.\n",
        "\n",
        "responses = [\n",
        "    \"I am excited about the opportunity to work on innovative projects.\",\n",
        "    \"I look forward to contributing to new and exciting projects.\",\n",
        "    \"I'm eager to engage in creative and challenging work.\",\n",
        "    \"I am thrilled about the chance to work on groundbreaking projects.\"\n",
        "]\n",
        "# Function to calculate edit distances between all pairs of responses\n",
        "def calculate_edit_distances(responses):\n",
        "    num_responses = len(responses)\n",
        "    distances = {}\n",
        "    for i in range(num_responses):\n",
        "        for j in range(i + 1, num_responses):\n",
        "            distance = editdistance.eval(responses[i], responses[j])\n",
        "            distances[(i, j)] = distance\n",
        "    return distances\n",
        "\n",
        "# Calculate the edit distances\n",
        "distances = calculate_edit_distances(responses)\n",
        "\n",
        "# Print the edit distances\n",
        "print(\": Edit Distances Between Responses:\")\n",
        "for pair, distance in distances.items():\n",
        "    print(f\"Distance between Response {pair[0]+1} and Response {pair[1]+1}: {distance}\")\n",
        "\n",
        "# Discussing the implications\n",
        "print(\"\\nDiscussion:\")\n",
        "for pair, distance in distances.items():\n",
        "    response_pair = (responses[pair[0]], responses[pair[1]])\n",
        "    print(f\"\\nResponses:\")\n",
        "    print(f\"Response {pair[0]+1}: {response_pair[0]}\")\n",
        "    print(f\"Response {pair[1]+1}: {response_pair[1]}\")\n",
        "    print(f\"Edit Distance: {distance}\")\n",
        "    if distance < 10:  # Threshold for similarity\n",
        "        print(\"These responses are quite similar.\")\n",
        "    else:\n",
        "        print(\"These responses are quite different.\")\n"
      ],
      "metadata": {
        "colab": {
          "base_uri": "https://localhost:8080/"
        },
        "id": "EPt3zQ3YyEfe",
        "outputId": "f9be8046-0b0b-4636-d654-8c22a9af3605"
      },
      "execution_count": null,
      "outputs": [
        {
          "output_type": "stream",
          "name": "stdout",
          "text": [
            ": Edit Distances Between Responses:\n",
            "Distance between Response 1 and Response 2: 40\n",
            "Distance between Response 1 and Response 3: 49\n",
            "Distance between Response 1 and Response 4: 26\n",
            "Distance between Response 2 and Response 3: 43\n",
            "Distance between Response 2 and Response 4: 41\n",
            "Distance between Response 3 and Response 4: 48\n",
            "\n",
            "Discussion:\n",
            "\n",
            "Responses:\n",
            "Response 1: I am excited about the opportunity to work on innovative projects.\n",
            "Response 2: I look forward to contributing to new and exciting projects.\n",
            "Edit Distance: 40\n",
            "These responses are quite different.\n",
            "\n",
            "Responses:\n",
            "Response 1: I am excited about the opportunity to work on innovative projects.\n",
            "Response 3: I'm eager to engage in creative and challenging work.\n",
            "Edit Distance: 49\n",
            "These responses are quite different.\n",
            "\n",
            "Responses:\n",
            "Response 1: I am excited about the opportunity to work on innovative projects.\n",
            "Response 4: I am thrilled about the chance to work on groundbreaking projects.\n",
            "Edit Distance: 26\n",
            "These responses are quite different.\n",
            "\n",
            "Responses:\n",
            "Response 2: I look forward to contributing to new and exciting projects.\n",
            "Response 3: I'm eager to engage in creative and challenging work.\n",
            "Edit Distance: 43\n",
            "These responses are quite different.\n",
            "\n",
            "Responses:\n",
            "Response 2: I look forward to contributing to new and exciting projects.\n",
            "Response 4: I am thrilled about the chance to work on groundbreaking projects.\n",
            "Edit Distance: 41\n",
            "These responses are quite different.\n",
            "\n",
            "Responses:\n",
            "Response 3: I'm eager to engage in creative and challenging work.\n",
            "Response 4: I am thrilled about the chance to work on groundbreaking projects.\n",
            "Edit Distance: 48\n",
            "These responses are quite different.\n"
          ]
        }
      ]
    },
    {
      "cell_type": "markdown",
      "source": [
        "Q5: Analyze the transcripts to prepare for content visualization:\n",
        "* a. Construct a word co-occurrence matrix for the tokens in the transcripts.\n",
        "* b. Identify and discuss the most frequent word pairs in the matrix.\n",
        "* c. Explain how this matrix could be used to visualize relationships between key terms when making admission decision"
      ],
      "metadata": {
        "id": "mjtKjd8byv_9"
      }
    },
    {
      "cell_type": "code",
      "source": [
        "# a. Construct a word co-occurrence matrix for the tokens in the transcripts.\n",
        "\n",
        "import numpy as np\n",
        "import pandas as pd\n",
        "from sklearn.feature_extraction.text import CountVectorizer\n",
        "from sklearn.feature_extraction.text import TfidfVectorizer\n",
        "from sklearn.preprocessing import normalize\n",
        "import nltk\n",
        "from nltk.tokenize import word_tokenize\n",
        "from collections import defaultdict\n",
        "\n",
        "# Ensure you have the necessary NLTK resources\n",
        "nltk.download('punkt')\n",
        "\n",
        "# Sample transcripts\n",
        "transcripts = [\n",
        "    \"I am a dedicated student and very interested in your program.\",\n",
        "    \"My strengths include a strong work ethic and a commitment to excellence.\",\n",
        "    \"I am passionate about my field and eager to contribute.\"\n",
        "]\n",
        "\n",
        "# Tokenize the transcripts\n",
        "def tokenize_transcripts(transcripts):\n",
        "    tokenized_transcripts = []\n",
        "    for transcript in transcripts:\n",
        "        tokens = word_tokenize(transcript.lower())\n",
        "        tokenized_transcripts.append(tokens)\n",
        "    return tokenized_transcripts\n",
        "\n",
        "# Create a co-occurrence matrix\n",
        "def create_cooccurrence_matrix(tokenized_transcripts, window_size=2):\n",
        "    cooccurrence = defaultdict(lambda: defaultdict(int))\n",
        "\n",
        "    for tokens in tokenized_transcripts:\n",
        "        for i, token in enumerate(tokens):\n",
        "            for j in range(max(0, i - window_size + 1), min(len(tokens), i + window_size)):\n",
        "                if i != j:\n",
        "                    cooccurrence[token][tokens[j]] += 1\n",
        "\n",
        "    # Create a DataFrame from the co-occurrence dictionary\n",
        "    tokens = list(set(token for tokens in tokenized_transcripts for token in tokens))\n",
        "    cooccurrence_df = pd.DataFrame(index=tokens, columns=tokens).fillna(0)\n",
        "\n",
        "    for token1, related_tokens in cooccurrence.items():\n",
        "        for token2, count in related_tokens.items():\n",
        "            cooccurrence_df.loc[token1, token2] = count\n",
        "\n",
        "    return cooccurrence_df\n",
        "\n",
        "# Tokenize the transcripts\n",
        "tokenized_transcripts = tokenize_transcripts(transcripts)\n",
        "\n",
        "# Create the co-occurrence matrix\n",
        "cooccurrence_matrix = create_cooccurrence_matrix(tokenized_transcripts)\n",
        "\n",
        "# Printing the co-occurrence matrix\n",
        "print(\"Q5a: Word Co-occurrence Matrix:\")\n",
        "print(cooccurrence_matrix)\n"
      ],
      "metadata": {
        "colab": {
          "base_uri": "https://localhost:8080/"
        },
        "id": "xRvmVwH3yjsB",
        "outputId": "36f4354c-210c-4f7f-c075-b64ce5f789b2"
      },
      "execution_count": null,
      "outputs": [
        {
          "output_type": "stream",
          "name": "stdout",
          "text": [
            "Q5a: Word Co-occurrence Matrix:\n",
            "            .  include  my  am  strong  passionate  dedicated  a  work  and  \\\n",
            ".           0        0   0   0       0           0          0  0     0    0   \n",
            "include     0        0   0   0       0           0          0  1     0    0   \n",
            "my          0        0   0   0       0           0          0  0     0    0   \n",
            "am          0        0   0   0       0           1          0  1     0    0   \n",
            "strong      0        0   0   0       0           0          0  1     1    0   \n",
            "passionate  0        0   0   1       0           0          0  0     0    0   \n",
            "dedicated   0        0   0   0       0           0          0  1     0    0   \n",
            "a           0        1   0   1       1           0          1  0     0    1   \n",
            "work        0        0   0   0       1           0          0  0     0    0   \n",
            "and         0        0   0   0       0           0          0  1     0    0   \n",
            "program     1        0   0   0       0           0          0  0     0    0   \n",
            "strengths   0        1   1   0       0           0          0  0     0    0   \n",
            "field       0        0   1   0       0           0          0  0     0    1   \n",
            "in          0        0   0   0       0           0          0  0     0    0   \n",
            "commitment  0        0   0   0       0           0          0  1     0    0   \n",
            "your        0        0   0   0       0           0          0  0     0    0   \n",
            "very        0        0   0   0       0           0          0  0     0    1   \n",
            "eager       0        0   0   0       0           0          0  0     0    1   \n",
            "i           0        0   0   2       0           0          0  0     0    0   \n",
            "student     0        0   0   0       0           0          1  0     0    1   \n",
            "contribute  1        0   0   0       0           0          0  0     0    0   \n",
            "about       0        0   1   0       0           1          0  0     0    0   \n",
            "interested  0        0   0   0       0           0          0  0     0    0   \n",
            "excellence  1        0   0   0       0           0          0  0     0    0   \n",
            "to          0        0   0   0       0           0          0  0     0    0   \n",
            "ethic       0        0   0   0       0           0          0  0     1    1   \n",
            "\n",
            "            ...  very  eager  i  student  contribute  about  interested  \\\n",
            ".           ...     0      0  0        0           1      0           0   \n",
            "include     ...     0      0  0        0           0      0           0   \n",
            "my          ...     0      0  0        0           0      1           0   \n",
            "am          ...     0      0  2        0           0      0           0   \n",
            "strong      ...     0      0  0        0           0      0           0   \n",
            "passionate  ...     0      0  0        0           0      1           0   \n",
            "dedicated   ...     0      0  0        1           0      0           0   \n",
            "a           ...     0      0  0        0           0      0           0   \n",
            "work        ...     0      0  0        0           0      0           0   \n",
            "and         ...     1      1  0        1           0      0           0   \n",
            "program     ...     0      0  0        0           0      0           0   \n",
            "strengths   ...     0      0  0        0           0      0           0   \n",
            "field       ...     0      0  0        0           0      0           0   \n",
            "in          ...     0      0  0        0           0      0           1   \n",
            "commitment  ...     0      0  0        0           0      0           0   \n",
            "your        ...     0      0  0        0           0      0           0   \n",
            "very        ...     0      0  0        0           0      0           1   \n",
            "eager       ...     0      0  0        0           0      0           0   \n",
            "i           ...     0      0  0        0           0      0           0   \n",
            "student     ...     0      0  0        0           0      0           0   \n",
            "contribute  ...     0      0  0        0           0      0           0   \n",
            "about       ...     0      0  0        0           0      0           0   \n",
            "interested  ...     1      0  0        0           0      0           0   \n",
            "excellence  ...     0      0  0        0           0      0           0   \n",
            "to          ...     0      1  0        0           1      0           0   \n",
            "ethic       ...     0      0  0        0           0      0           0   \n",
            "\n",
            "            excellence  to  ethic  \n",
            ".                    1   0      0  \n",
            "include              0   0      0  \n",
            "my                   0   0      0  \n",
            "am                   0   0      0  \n",
            "strong               0   0      0  \n",
            "passionate           0   0      0  \n",
            "dedicated            0   0      0  \n",
            "a                    0   0      0  \n",
            "work                 0   0      1  \n",
            "and                  0   0      1  \n",
            "program              0   0      0  \n",
            "strengths            0   0      0  \n",
            "field                0   0      0  \n",
            "in                   0   0      0  \n",
            "commitment           0   1      0  \n",
            "your                 0   0      0  \n",
            "very                 0   0      0  \n",
            "eager                0   1      0  \n",
            "i                    0   0      0  \n",
            "student              0   0      0  \n",
            "contribute           0   1      0  \n",
            "about                0   0      0  \n",
            "interested           0   0      0  \n",
            "excellence           0   1      0  \n",
            "to                   1   0      0  \n",
            "ethic                0   0      0  \n",
            "\n",
            "[26 rows x 26 columns]\n"
          ]
        },
        {
          "output_type": "stream",
          "name": "stderr",
          "text": [
            "[nltk_data] Downloading package punkt to /root/nltk_data...\n",
            "[nltk_data]   Package punkt is already up-to-date!\n"
          ]
        }
      ]
    },
    {
      "cell_type": "code",
      "source": [
        "# b. Identify and discuss the most frequent word pairs in the matrix.\n",
        "\n",
        "import pandas as pd\n",
        "\n",
        "# Function to identify the most frequent word pairs\n",
        "def identify_frequent_pairs(cooccurrence_matrix, top_n=10):\n",
        "    # Flatten the matrix and sort by count\n",
        "    cooccurrence_flat = cooccurrence_matrix.stack()\n",
        "    # Sort pairs by count in descending order\n",
        "    sorted_pairs = cooccurrence_flat.sort_values(ascending=False)\n",
        "    # Select the top_n pairs\n",
        "    frequent_pairs = sorted_pairs.head(top_n)\n",
        "    return frequent_pairs\n",
        "\n",
        "# Identify the most frequent word pairs\n",
        "top_word_pairs = identify_frequent_pairs(cooccurrence_matrix)\n",
        "\n",
        "# Print the most frequent word pairs\n",
        "print(\" Most Frequent Word Pairs:\")\n",
        "for (word1, word2), count in top_word_pairs.items():\n",
        "    print(f\"Pair: ({word1}, {word2}), Count: {count}\")\n",
        "\n",
        "# Discussion\n",
        "print(\"\\nDiscussion:\")\n",
        "for (word1, word2), count in top_word_pairs.items():\n",
        "    print(f\"Word Pair: ({word1}, {word2})\")\n",
        "    print(f\"Frequency: {count}\")\n",
        "    # Discuss the relevance of each word pair\n",
        "    if word1 in ['student', 'program', 'field'] or word2 in ['student', 'program', 'field']:\n",
        "        print(f\"Relevance: This pair is likely related to key topics or themes discussed in the interviews.\")\n",
        "    else:\n",
        "        print(f\"Relevance: This pair may reflect common words or less relevant content.\")\n",
        "    print()\n"
      ],
      "metadata": {
        "colab": {
          "base_uri": "https://localhost:8080/"
        },
        "id": "6Jn5__E4zW_a",
        "outputId": "45c4d7a6-1318-429d-a21b-9911e358d0a0"
      },
      "execution_count": null,
      "outputs": [
        {
          "output_type": "stream",
          "name": "stdout",
          "text": [
            " Most Frequent Word Pairs:\n",
            "Pair: (i, am), Count: 2\n",
            "Pair: (am, i), Count: 2\n",
            "Pair: (a, commitment), Count: 1\n",
            "Pair: (excellence, .), Count: 1\n",
            "Pair: (and, field), Count: 1\n",
            "Pair: (very, and), Count: 1\n",
            "Pair: (dedicated, a), Count: 1\n",
            "Pair: (passionate, am), Count: 1\n",
            "Pair: (field, and), Count: 1\n",
            "Pair: (and, very), Count: 1\n",
            "\n",
            "Discussion:\n",
            "Word Pair: (i, am)\n",
            "Frequency: 2\n",
            "Relevance: This pair may reflect common words or less relevant content.\n",
            "\n",
            "Word Pair: (am, i)\n",
            "Frequency: 2\n",
            "Relevance: This pair may reflect common words or less relevant content.\n",
            "\n",
            "Word Pair: (a, commitment)\n",
            "Frequency: 1\n",
            "Relevance: This pair may reflect common words or less relevant content.\n",
            "\n",
            "Word Pair: (excellence, .)\n",
            "Frequency: 1\n",
            "Relevance: This pair may reflect common words or less relevant content.\n",
            "\n",
            "Word Pair: (and, field)\n",
            "Frequency: 1\n",
            "Relevance: This pair is likely related to key topics or themes discussed in the interviews.\n",
            "\n",
            "Word Pair: (very, and)\n",
            "Frequency: 1\n",
            "Relevance: This pair may reflect common words or less relevant content.\n",
            "\n",
            "Word Pair: (dedicated, a)\n",
            "Frequency: 1\n",
            "Relevance: This pair may reflect common words or less relevant content.\n",
            "\n",
            "Word Pair: (passionate, am)\n",
            "Frequency: 1\n",
            "Relevance: This pair may reflect common words or less relevant content.\n",
            "\n",
            "Word Pair: (field, and)\n",
            "Frequency: 1\n",
            "Relevance: This pair is likely related to key topics or themes discussed in the interviews.\n",
            "\n",
            "Word Pair: (and, very)\n",
            "Frequency: 1\n",
            "Relevance: This pair may reflect common words or less relevant content.\n",
            "\n"
          ]
        }
      ]
    },
    {
      "cell_type": "code",
      "source": [
        "# c. Explain how this matrix could be used to visualize relationships between key terms when making admission decision\n",
        "\n",
        "import seaborn as sns\n",
        "import matplotlib.pyplot as plt\n",
        "\n",
        "# Plot the heatmap\n",
        "plt.figure(figsize=(10, 8))\n",
        "sns.heatmap(cooccurrence_matrix, annot=True, cmap=\"YlGnBu\", fmt=\"d\")\n",
        "plt.title(\"Word Co-occurrence Heatmap\")\n",
        "plt.show()\n"
      ],
      "metadata": {
        "colab": {
          "base_uri": "https://localhost:8080/",
          "height": 773
        },
        "id": "K0Usm-vNzg9D",
        "outputId": "fd11fd72-c162-4b5d-f7b5-2f8c272d6c23"
      },
      "execution_count": null,
      "outputs": [
        {
          "output_type": "display_data",
          "data": {
            "text/plain": [
              "<Figure size 1000x800 with 2 Axes>"
            ],
            "image/png": "[encoded data removed]"
          },
          "metadata": {}
        }
      ]
    },
    {
      "cell_type": "code",
      "source": [],
      "metadata": {
        "id": "IW92xFvYzqJD"
      },
      "execution_count": null,
      "outputs": []
    }
  ]
}